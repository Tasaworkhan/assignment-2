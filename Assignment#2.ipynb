{
 "cells": [
  {
   "cell_type": "markdown",
   "id": "195ce58a",
   "metadata": {},
   "source": [
    "# Scenario#1"
   ]
  },
  {
   "cell_type": "code",
   "execution_count": 3,
   "id": "a906717f",
   "metadata": {},
   "outputs": [
    {
     "name": "stdout",
     "output_type": "stream",
     "text": [
      "enter number Of items: 5\n",
      "Enter Items You want to add: 10kg flour\n",
      "Enter Items You want to add: 5kg oil\n",
      "Enter Items You want to add: 5kg sugar\n",
      "Enter Items You want to add: 2kg tea\n",
      "Enter Items You want to add: 5kg milk\n",
      "This Your List['10kg flour', '5kg oil', '5kg sugar', '2kg tea', '5kg milk']\n",
      "enter items to update: 1kg tea\n",
      "This is your updated list: ['10kg flour', '5kg oil', '5kg sugar', '2kg tea', '5kg milk']\n",
      "enter item to remove from list: 2kg tea\n",
      " This is your final List ['10kg flour', '5kg oil', '5kg sugar', '5kg milk']\n"
     ]
    }
   ],
   "source": [
    "Grocery_List=[]\n",
    "Number_of_items=int(input(\"enter number Of items: \"))\n",
    "\n",
    "for i in range(Number_of_items):\n",
    "    Grocery_List.append(input(\"Enter Items You want to add: \"))\n",
    "    \n",
    "print(f\"This Your List{Grocery_List}\")\n",
    "\n",
    "item_to_update=input(\"enter items to update: \")\n",
    "\n",
    "if item_to_update in  Grocery_List:\n",
    "     Grocery_List.update(item_to_update )\n",
    "print(f\"This is your updated list: {Grocery_List}\")        \n",
    "\n",
    "items_to_remove=input(\"enter item to remove from list: \")\n",
    "\n",
    "if items_to_remove in Grocery_List:\n",
    "    Grocery_List.remove(items_to_remove)\n",
    "\n",
    "print(f\" This is your final List {Grocery_List}\")\n",
    "\n",
    "\n",
    "    \n"
   ]
  },
  {
   "cell_type": "markdown",
   "id": "b85d8608",
   "metadata": {},
   "source": [
    "# Scenario#2"
   ]
  },
  {
   "cell_type": "code",
   "execution_count": 5,
   "id": "3f13dfe0",
   "metadata": {},
   "outputs": [
    {
     "name": "stdout",
     "output_type": "stream",
     "text": [
      "Enter name of student 1:  Tasawor\n",
      "enter grade of Tasawor: 85\n",
      "Enter name of student 2:  Karim\n",
      "enter grade of Karim: 65\n",
      "Enter name of student 3:  Asad\n",
      "enter grade of Asad: 65\n",
      "Enter name of student 4:  Nazim\n",
      "enter grade of Nazim: 36\n",
      "Enter name of student 5:  Zain\n",
      "enter grade of Zain: 98\n",
      "Students grades:{'Tasawor': 85, 'Karim': 65, 'Asad': 65, 'Nazim': 36, 'Zain': 98}\n",
      "Average Grade: 69.8\n"
     ]
    }
   ],
   "source": [
    "Student_grades={}\n",
    "\n",
    "for i in range(5):\n",
    "    students_names=input(f\"Enter name of student {i+1}:  \")\n",
    "    grade=int(input(f\"enter grade of {students_names}: \"))\n",
    "    Student_grades[students_names]= grade\n",
    "    \n",
    "print(f\"Students grades:{Student_grades}\")\n",
    "\n",
    "total_grades=sum(Student_grades.values())\n",
    "no_of_students=len(Student_grades)\n",
    "average_grade=total_grades/no_of_students\n",
    "\n",
    "print(f\"Average Grade: {average_grade}\")"
   ]
  },
  {
   "cell_type": "markdown",
   "id": "1a771e94",
   "metadata": {},
   "source": [
    "# Scenario#3"
   ]
  },
  {
   "cell_type": "code",
   "execution_count": 6,
   "id": "85c8d492",
   "metadata": {},
   "outputs": [
    {
     "name": "stdout",
     "output_type": "stream",
     "text": [
      "apple: 3\n",
      "banana: 2\n",
      "orange: 1\n",
      "grape: 1\n"
     ]
    }
   ],
   "source": [
    "word_list = [\"apple\", \"banana\", \"apple\", \"orange\", \"banana\", \"grape\", \"apple\"]\n",
    "\n",
    "word_frequency = {}\n",
    "\n",
    "\n",
    "for word in word_list:\n",
    "    \n",
    "    if word in word_frequency:\n",
    "        word_frequency[word] += 1\n",
    "    \n",
    "    else:\n",
    "        word_frequency[word] = 1\n",
    "\n",
    "for word, frequency in word_frequency.items():\n",
    "    print(f\"{word}: {frequency}\")\n"
   ]
  },
  {
   "cell_type": "markdown",
   "id": "8d7279ef",
   "metadata": {},
   "source": [
    "# Scenario#4"
   ]
  },
  {
   "cell_type": "code",
   "execution_count": 1,
   "id": "f00c2df0",
   "metadata": {},
   "outputs": [
    {
     "name": "stdout",
     "output_type": "stream",
     "text": [
      "Enter your password: tasaworkhann545455\n",
      "Password is strong! It meets all the criteria.\n"
     ]
    }
   ],
   "source": [
    "# Get a password from the user\n",
    "password = input(\"Enter your password: \")\n",
    "\n",
    "# Check the password strength based on criteria\n",
    "if len(password) < 8:\n",
    "    print(\"Password is too short. It should be at least 8 characters long.\")\n",
    "elif not any(char.isdigit() for char in password):\n",
    "    print(\"Password should contain at least one digit.\")\n",
    "elif not any(char.isalpha() for char in password):\n",
    "    print(\"Password should contain at least one letter.\")\n",
    "else:\n",
    "    print(\"Password is strong! It meets all the criteria.\")"
   ]
  },
  {
   "cell_type": "markdown",
   "id": "f1d0e79e",
   "metadata": {},
   "source": [
    "# Scenario#5"
   ]
  },
  {
   "cell_type": "code",
   "execution_count": 2,
   "id": "a3d75424",
   "metadata": {},
   "outputs": [
    {
     "name": "stdout",
     "output_type": "stream",
     "text": [
      "Enter the number of voters participating: 10\n",
      "\n",
      "Voter 1\n",
      "1. Candidate A\n",
      "2. Candidate B\n",
      "3. Candidate C\n",
      "Enter the number corresponding to your choice: 2\n",
      "Vote recorded for Candidate B\n",
      "\n",
      "Voter 2\n",
      "1. Candidate A\n",
      "2. Candidate B\n",
      "3. Candidate C\n",
      "Enter the number corresponding to your choice: 2\n",
      "Vote recorded for Candidate B\n",
      "\n",
      "Voter 3\n",
      "1. Candidate A\n",
      "2. Candidate B\n",
      "3. Candidate C\n",
      "Enter the number corresponding to your choice: 3\n",
      "Vote recorded for Candidate C\n",
      "\n",
      "Voter 4\n",
      "1. Candidate A\n",
      "2. Candidate B\n",
      "3. Candidate C\n",
      "Enter the number corresponding to your choice: \n",
      "Invalid input. Please enter a number.\n",
      "Enter the number corresponding to your choice: 1\n",
      "Vote recorded for Candidate A\n",
      "\n",
      "Voter 5\n",
      "1. Candidate A\n",
      "2. Candidate B\n",
      "3. Candidate C\n",
      "Enter the number corresponding to your choice: 2\n",
      "Vote recorded for Candidate B\n",
      "\n",
      "Voter 6\n",
      "1. Candidate A\n",
      "2. Candidate B\n",
      "3. Candidate C\n",
      "Enter the number corresponding to your choice: 1\n",
      "Vote recorded for Candidate A\n",
      "\n",
      "Voter 7\n",
      "1. Candidate A\n",
      "2. Candidate B\n",
      "3. Candidate C\n",
      "Enter the number corresponding to your choice: 1\n",
      "Vote recorded for Candidate A\n",
      "\n",
      "Voter 8\n",
      "1. Candidate A\n",
      "2. Candidate B\n",
      "3. Candidate C\n",
      "Enter the number corresponding to your choice: 3\n",
      "Vote recorded for Candidate C\n",
      "\n",
      "Voter 9\n",
      "1. Candidate A\n",
      "2. Candidate B\n",
      "3. Candidate C\n",
      "Enter the number corresponding to your choice: 2\n",
      "Vote recorded for Candidate B\n",
      "\n",
      "Voter 10\n",
      "1. Candidate A\n",
      "2. Candidate B\n",
      "3. Candidate C\n",
      "Enter the number corresponding to your choice: 2\n",
      "Vote recorded for Candidate B\n",
      "\n",
      "Voting Results:\n",
      "Candidate A: 3 votes\n",
      "Candidate B: 5 votes\n",
      "Candidate C: 2 votes\n"
     ]
    }
   ],
   "source": [
    "def vote(candidate_list):\n",
    "    num_voters = int(input(\"Enter the number of voters participating: \"))\n",
    "    votes = {candidate: 0 for candidate in candidate_list}\n",
    "\n",
    "    for i in range(num_voters):\n",
    "        print(\"\\nVoter\", i + 1)\n",
    "        for idx, candidate in enumerate(candidate_list, 1):\n",
    "            print(f\"{idx}. {candidate}\")\n",
    "        \n",
    "        while True:\n",
    "            try:\n",
    "                vote_index = int(input(\"Enter the number corresponding to your choice: \"))\n",
    "                if 1 <= vote_index <= len(candidate_list):\n",
    "                    chosen_candidate = candidate_list[vote_index - 1]\n",
    "                    votes[chosen_candidate] += 1\n",
    "                    print(\"Vote recorded for\", chosen_candidate)\n",
    "                    break\n",
    "                else:\n",
    "                    print(\"Invalid choice. Please choose a number within the range.\")\n",
    "            except ValueError:\n",
    "                print(\"Invalid input. Please enter a number.\")\n",
    "\n",
    "    print(\"\\nVoting Results:\")\n",
    "    for candidate, votes_received in votes.items():\n",
    "        print(f\"{candidate}: {votes_received} votes\")\n",
    "\n",
    "\n",
    "if __name__ == \"__main__\":\n",
    "    candidates = ['Candidate A', 'Candidate B', 'Candidate C']\n",
    "    vote(candidates)\n"
   ]
  },
  {
   "cell_type": "code",
   "execution_count": null,
   "id": "688c29f6",
   "metadata": {},
   "outputs": [],
   "source": []
  }
 ],
 "metadata": {
  "kernelspec": {
   "display_name": "Python 3 (ipykernel)",
   "language": "python",
   "name": "python3"
  },
  "language_info": {
   "codemirror_mode": {
    "name": "ipython",
    "version": 3
   },
   "file_extension": ".py",
   "mimetype": "text/x-python",
   "name": "python",
   "nbconvert_exporter": "python",
   "pygments_lexer": "ipython3",
   "version": "3.11.5"
  }
 },
 "nbformat": 4,
 "nbformat_minor": 5
}
